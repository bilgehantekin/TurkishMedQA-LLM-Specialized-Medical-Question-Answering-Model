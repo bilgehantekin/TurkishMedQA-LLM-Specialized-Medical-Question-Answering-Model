{
 "cells": [
  {
   "cell_type": "code",
   "execution_count": null,
   "id": "b417d51f",
   "metadata": {
    "vscode": {
     "languageId": "plaintext"
    }
   },
   "outputs": [],
   "source": [
    "import json\n",
    "import random\n",
    "from transformers import AutoTokenizer, AutoModelForCausalLM, pipeline\n",
    "\n",
    "# Token ve model yükleme \n",
    "MODEL_NAME = \"mistralai/Mistral-7B-Instruct-v0.2\"\n",
    "tokenizer = AutoTokenizer.from_pretrained(MODEL_NAME, token=\"token\")\n",
    "model = AutoModelForCausalLM.from_pretrained(MODEL_NAME, token=\"token\", device_map=\"auto\", torch_dtype=\"auto\")\n",
    "\n",
    "qa_pipeline = pipeline(\n",
    "    \"text-generation\",\n",
    "    model=model,\n",
    "    tokenizer=tokenizer,\n",
    "    max_new_tokens=256,\n",
    "    device_map=\"auto\"\n",
    ")\n",
    "\n",
    "# Veriyi yükle\n",
    "data_path = \"/kaggle/input/kbb-test-data/kbb_qa_test.json\"\n",
    "with open(data_path, \"r\", encoding=\"utf-8\") as f:\n",
    "    all_data = json.load(f)\n",
    "\n",
    "# Few-shot için 3 örnek seçelim \n",
    "fewshot_examples = random.sample(all_data, 3)\n",
    "\n",
    "def build_fewshot_prompt(fewshot_examples, test_question):\n",
    "    prompt = \"\"\n",
    "    for ex in fewshot_examples:\n",
    "        prompt += f\"Soru: {ex['question'].strip()}\\nCevap: {ex['answer'].strip()}\\n\\n\"\n",
    "    prompt += f\"Soru: {test_question}\\nCevap:\"\n",
    "    return prompt\n",
    "\n",
    "# Test için yeni 10 soru seç\n",
    "test_samples = random.sample(all_data, 10)\n",
    "\n",
    "results = []\n",
    "for idx, item in enumerate(test_samples):\n",
    "    question = item[\"question\"].strip()\n",
    "    prompt = build_fewshot_prompt(fewshot_examples, question)\n",
    "    \n",
    "    print(f\"\\n[{idx+1}] Soru: {question}\")\n",
    "    outputs = qa_pipeline(prompt)\n",
    "    model_answer = outputs[0]['generated_text'].split(\"Cevap:\")[-1].strip()\n",
    "    doctor_answer = item.get(\"answer\", \"\").strip()\n",
    "\n",
    "    print(\"[Doktor Cevabı]:\", doctor_answer)\n",
    "    print(\"[Model Cevabı]:\", model_answer)\n",
    "\n",
    "    results.append({\n",
    "        \"question\": question,\n",
    "        \"doctor_answer\": doctor_answer,\n",
    "        \"model_answer\": model_answer\n",
    "    })\n",
    "\n",
    "# Sonuçları kaydet\n",
    "with open(\"mistral_fewshot_zero_shot_results.json\", \"w\", encoding=\"utf-8\") as f:\n",
    "    json.dump(results, f, ensure_ascii=False, indent=2)\n"
   ]
  }
 ],
 "metadata": {
  "language_info": {
   "name": "python"
  }
 },
 "nbformat": 4,
 "nbformat_minor": 5
}
