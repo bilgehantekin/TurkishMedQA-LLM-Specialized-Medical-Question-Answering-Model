{
 "cells": [
  {
   "cell_type": "code",
   "execution_count": null,
   "id": "3429a22d",
   "metadata": {
    "vscode": {
     "languageId": "plaintext"
    }
   },
   "outputs": [],
   "source": [
    "import json\n",
    "from rouge_score import rouge_scorer\n",
    "from nltk.translate.bleu_score import sentence_bleu, SmoothingFunction\n",
    "import nltk\n",
    "\n",
    "# BLEU için gerekli\n",
    "nltk.download('punkt')\n",
    "\n",
    "# 1. Sonuçları Yükle\n",
    "with open(\"/kaggle/working/mistral_zero_shot_results.json\", \"r\", encoding=\"utf-8\") as f:\n",
    "    results = json.load(f)\n",
    "\n",
    "# 2. Metrik Hesaplayıcıları\n",
    "rouge = rouge_scorer.RougeScorer(['rouge1', 'rouge2', 'rougeL'], use_stemmer=True)\n",
    "smooth = SmoothingFunction().method1\n",
    "\n",
    "rouge1_scores, rouge2_scores, rougeL_scores, bleu_scores = [], [], [], []\n",
    "\n",
    "for res in results:\n",
    "    ref = res[\"doctor_answer\"]\n",
    "    hyp = res[\"model_answer\"]\n",
    "\n",
    "    # ROUGE\n",
    "    scores = rouge.score(ref, hyp)\n",
    "    rouge1_scores.append(scores['rouge1'].fmeasure)\n",
    "    rouge2_scores.append(scores['rouge2'].fmeasure)\n",
    "    rougeL_scores.append(scores['rougeL'].fmeasure)\n",
    "\n",
    "    # BLEU (kelime kelime tokenizasyon)\n",
    "    ref_tokens = nltk.word_tokenize(ref)\n",
    "    hyp_tokens = nltk.word_tokenize(hyp)\n",
    "    bleu = sentence_bleu([ref_tokens], hyp_tokens, smoothing_function=smooth)\n",
    "    bleu_scores.append(bleu)\n",
    "\n",
    "# 3. Ortalama Skorları Hesapla ve Yazdır\n",
    "print(f\"ROUGE-1 F1: {sum(rouge1_scores)/len(rouge1_scores):.4f}\")\n",
    "print(f\"ROUGE-2 F1: {sum(rouge2_scores)/len(rouge2_scores):.4f}\")\n",
    "print(f\"ROUGE-L F1: {sum(rougeL_scores)/len(rougeL_scores):.4f}\")\n",
    "print(f\"BLEU:       {sum(bleu_scores)/len(bleu_scores):.4f}\")\n"
   ]
  }
 ],
 "metadata": {
  "language_info": {
   "name": "python"
  }
 },
 "nbformat": 4,
 "nbformat_minor": 5
}
