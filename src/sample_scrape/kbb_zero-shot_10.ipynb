{
 "cells": [
  {
   "cell_type": "code",
   "execution_count": null,
   "id": "920890e2",
   "metadata": {
    "vscode": {
     "languageId": "plaintext"
    }
   },
   "outputs": [],
   "source": [
    "import json\n",
    "import random\n",
    "from transformers import AutoTokenizer, AutoModelForCausalLM, pipeline\n",
    "\n",
    "# 1. MODEL BİLGİLERİ\n",
    "import os\n",
    "from kaggle_secrets import UserSecretsClient\n",
    "\n",
    "user_secrets = UserSecretsClient()\n",
    "hf_token = user_secrets.get_secret(\"token\")\n",
    "\n",
    "MODEL_NAME = \"mistralai/Mistral-7B-Instruct-v0.2\"\n",
    "tokenizer = AutoTokenizer.from_pretrained(MODEL_NAME, token=hf_token)\n",
    "model = AutoModelForCausalLM.from_pretrained(MODEL_NAME, token=hf_token, device_map=\"auto\", torch_dtype=\"auto\")\n",
    "\n",
    "qa_pipeline = pipeline(\n",
    "    \"text-generation\",\n",
    "    model=model,\n",
    "    tokenizer=tokenizer,\n",
    "    max_new_tokens=256,\n",
    "    device_map=\"auto\"\n",
    ")\n",
    "\n",
    "\n",
    "# 2. VERİYİ YÜKLE\n",
    "data_path = \"/kaggle/input/kbb-test-data/kbb_qa_test.json\"\n",
    "with open(data_path, \"r\", encoding=\"utf-8\") as f:\n",
    "    all_data = json.load(f)\n",
    "\n",
    "# 3. RASTGELE 10 SORU SEÇ \n",
    "sample_data = random.sample(all_data, 10)\n",
    "\n",
    "# 4. SORULARI MODELE SOR\n",
    "results = []\n",
    "\n",
    "for idx, item in enumerate(sample_data):\n",
    "    question = item[\"question\"].strip()\n",
    "    prompt = (\n",
    "        f\"<s>### Soru:\\n{question}\\n\\n### Cevap:\\n\"\n",
    "    )\n",
    "\n",
    "    print(f\"\\n[{idx+1}] Soru: {question}\")\n",
    "    outputs = qa_pipeline(prompt)\n",
    "    # Mistral genellikle tüm promptu tekrarlar, cevabı '### Cevap:' sonrası kısmı alıyoruz:\n",
    "    model_answer = outputs[0]['generated_text'].split(\"### Cevap:\")[-1].strip()\n",
    "    doctor_answer = item.get(\"answer\", \"\").strip()\n",
    "\n",
    "    print(\"[Doktor Cevabı]:\", doctor_answer)\n",
    "    print(\"[Model Cevabı]:\", model_answer)\n",
    "\n",
    "    results.append({\n",
    "        \"topic\": item.get(\"topic\", \"\"),\n",
    "        \"title\": item.get(\"title\", \"\"),\n",
    "        \"question\": question,\n",
    "        \"doctor_answer\": doctor_answer,\n",
    "        \"model_answer\": model_answer,\n",
    "        \"doctorID\": item.get(\"doctorID\", \"\")\n",
    "    })\n",
    "\n",
    "# 5. SONUÇLARI KAYDET\n",
    "with open(\"mistral_zero_shot_results.json\", \"w\", encoding=\"utf-8\") as f:\n",
    "    json.dump(results, f, ensure_ascii=False, indent=2)\n",
    "\n",
    "print(\"\\nZero-shot sonuçları 'mistral_zero_shot_results.json' dosyasına kaydedildi.\")\n"
   ]
  }
 ],
 "metadata": {
  "language_info": {
   "name": "python"
  }
 },
 "nbformat": 4,
 "nbformat_minor": 5
}
